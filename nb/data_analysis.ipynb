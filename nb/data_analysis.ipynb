{
 "cells": [
  {
   "cell_type": "code",
   "execution_count": null,
   "metadata": {},
   "outputs": [],
   "source": []
  },
  {
   "cell_type": "markdown",
   "metadata": {},
   "source": [
    "# Convert models"
   ]
  },
  {
   "cell_type": "code",
   "execution_count": null,
   "metadata": {},
   "outputs": [],
   "source": [
    "!python -m tf2onnx.convert --saved-model ../models/tf/DoS/base --output ../models/onnx/DoS/base.onnx\n",
    "!python -m tf2onnx.convert --saved-model ../models/tf/DoS/adv --output ../models/onnx/DoS/adv.onnx\n",
    "!python -m tf2onnx.convert --saved-model ../models/tf/DoS/base_small --output ../models/onnx/DoS/base_small.onnx\n",
    "!python -m tf2onnx.convert --saved-model ../models/tf/DoS/adv_small --output ../models/onnx/DoS/adv_small.onnx"
   ]
  },
  {
   "cell_type": "markdown",
   "metadata": {},
   "source": [
    "# Base Normal\n",
    "---"
   ]
  },
  {
   "cell_type": "code",
   "execution_count": null,
   "metadata": {},
   "outputs": [],
   "source": [
    "!vehicle verify --specification ../vehicle/global.vcl --verifier Marabou --network classifier:../models/onnx/DoS/base.onnx --property propertyGoodHTTP"
   ]
  },
  {
   "cell_type": "code",
   "execution_count": null,
   "metadata": {},
   "outputs": [],
   "source": [
    "!vehicle verify --specification ../vehicle/global.vcl --verifier Marabou --network classifier:../models/onnx/DoS/base.onnx --property propertyInvalid"
   ]
  },
  {
   "cell_type": "code",
   "execution_count": null,
   "metadata": {},
   "outputs": [],
   "source": [
    "!vehicle verify --specification ../vehicle/global.vcl --verifier Marabou --network classifier:../models/onnx/DoS/base.onnx --property propertyHulk"
   ]
  },
  {
   "cell_type": "code",
   "execution_count": null,
   "metadata": {},
   "outputs": [],
   "source": [
    "!vehicle verify --specification ../vehicle/global.vcl --verifier Marabou --network classifier:../models/onnx/DoS/base.onnx --property propertySYNFlood"
   ]
  },
  {
   "cell_type": "code",
   "execution_count": null,
   "metadata": {},
   "outputs": [],
   "source": [
    "!vehicle verify --specification ../vehicle/global.vcl --verifier Marabou --network classifier:../models/onnx/DoS/base.onnx --property propertySlowhttptest"
   ]
  },
  {
   "cell_type": "code",
   "execution_count": null,
   "metadata": {},
   "outputs": [],
   "source": [
    "!vehicle verify --specification ../vehicle/global.vcl --verifier Marabou --network classifier:../models/onnx/DoS/base.onnx --property propertySlowIATsAttacks"
   ]
  },
  {
   "cell_type": "markdown",
   "metadata": {},
   "source": [
    "# Adv\n",
    "---"
   ]
  },
  {
   "cell_type": "code",
   "execution_count": null,
   "metadata": {},
   "outputs": [],
   "source": [
    "!vehicle verify --specification ../vehicle/global.vcl --verifier Marabou --network classifier:../models/onnx/FTP/good2.onnx --property propertyGoodHTTP"
   ]
  },
  {
   "cell_type": "code",
   "execution_count": null,
   "metadata": {},
   "outputs": [],
   "source": [
    "!vehicle verify --specification ../vehicle/global.vcl --verifier Marabou --network classifier:../models/onnx/DoS/good2.onnx --property propertyHulk"
   ]
  },
  {
   "cell_type": "code",
   "execution_count": null,
   "metadata": {},
   "outputs": [],
   "source": [
    "!vehicle verify --cache ../results/cache/test/ --specification ../vehicle/global.vcl --verifier Marabou --network classifier:../models/onnx/FTP/good2.onnx --property propertySlowIATsAttacks"
   ]
  },
  {
   "cell_type": "code",
   "execution_count": null,
   "metadata": {},
   "outputs": [],
   "source": [
    "!vehicle verify --specification ../vehicle/global.vcl --verifier Marabou --network classifier:../models/onnx/DoS/adv.onnx --property propertyInvalid"
   ]
  },
  {
   "cell_type": "code",
   "execution_count": null,
   "metadata": {},
   "outputs": [],
   "source": [
    "!vehicle verify --specification ../vehicle/global.vcl --verifier Marabou --network classifier:../models/onnx/DoS/adv.onnx --property propertySlowhttptest"
   ]
  },
  {
   "cell_type": "code",
   "execution_count": null,
   "metadata": {},
   "outputs": [],
   "source": [
    "!vehicle verify --specification ../vehicle/global.vcl --verifier Marabou --network classifier:../models/onnx/DoS/adv.onnx --property propertySYNFlood"
   ]
  },
  {
   "cell_type": "markdown",
   "metadata": {},
   "source": [
    "# SSH\n",
    "---"
   ]
  },
  {
   "cell_type": "code",
   "execution_count": null,
   "metadata": {},
   "outputs": [],
   "source": [
    "!vehicle verify --specification ../vehicle/ssh.vcl --verifier Marabou --network classifier:../models/onnx/FTP/good2.onnx --property propertySSHBruteForce"
   ]
  },
  {
   "cell_type": "code",
   "execution_count": null,
   "metadata": {},
   "outputs": [],
   "source": [
    "!vehicle verify --specification ../vehicle/ssh.vcl --verifier Marabou --network classifier:../models/onnx/FTP/good2.onnx --property propertyGoodSSHLogin"
   ]
  },
  {
   "cell_type": "markdown",
   "metadata": {},
   "source": [
    "# FTP\n",
    "---"
   ]
  },
  {
   "cell_type": "code",
   "execution_count": null,
   "metadata": {},
   "outputs": [],
   "source": [
    "!vehicle verify --specification ../vehicle/ssh.vcl --verifier Marabou --network classifier:../models/onnx/FTP/good2.onnx --property propertyFTPBruteForce"
   ]
  },
  {
   "cell_type": "code",
   "execution_count": null,
   "metadata": {},
   "outputs": [],
   "source": [
    "!vehicle verify --specification ../vehicle/ssh.vcl --verifier Marabou --network classifier:../models/onnx/FTP/good2.onnx --property propertyGoodFTPLogin"
   ]
  },
  {
   "cell_type": "markdown",
   "metadata": {},
   "source": [
    "# Transferability experiment\n",
    "---"
   ]
  },
  {
   "cell_type": "code",
   "execution_count": null,
   "metadata": {},
   "outputs": [],
   "source": [
    "!vehicle verify --specification ../vehicle/global.vcl --verifier Marabou --network classifier:../models/onnx/DoS/big4_test.onnx --property propertyGoodHTTP"
   ]
  }
 ],
 "metadata": {
  "kernelspec": {
   "display_name": "sec",
   "language": "python",
   "name": "python3"
  },
  "language_info": {
   "codemirror_mode": {
    "name": "ipython",
    "version": 3
   },
   "file_extension": ".py",
   "mimetype": "text/x-python",
   "name": "python",
   "nbconvert_exporter": "python",
   "pygments_lexer": "ipython3",
   "version": "3.9.9"
  }
 },
 "nbformat": 4,
 "nbformat_minor": 2
}
