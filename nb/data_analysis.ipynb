{
 "cells": [
  {
   "cell_type": "code",
   "execution_count": 1,
   "metadata": {},
   "outputs": [],
   "source": [
    "import matplotlib.pyplot as plt\n",
    "import seaborn as sns\n",
    "import pandas as pd"
   ]
  },
  {
   "cell_type": "markdown",
   "metadata": {},
   "source": [
    "# Convert models"
   ]
  },
  {
   "cell_type": "code",
   "execution_count": null,
   "metadata": {},
   "outputs": [],
   "source": [
    "!python -m tf2onnx.convert --saved-model ../models/tf/DoS/base --output ../models/onnx/DoS/base.onnx\n",
    "!python -m tf2onnx.convert --saved-model ../models/tf/DoS/adv --output ../models/onnx/DoS/adv.onnx\n",
    "!python -m tf2onnx.convert --saved-model ../models/tf/DoS/base_small --output ../models/onnx/DoS/base_small.onnx\n",
    "!python -m tf2onnx.convert --saved-model ../models/tf/DoS/adv_small --output ../models/onnx/DoS/adv_small.onnx"
   ]
  },
  {
   "cell_type": "markdown",
   "metadata": {},
   "source": [
    "# Base Normal\n",
    "---"
   ]
  },
  {
   "cell_type": "code",
   "execution_count": null,
   "metadata": {},
   "outputs": [],
   "source": [
    "!vehicle verify --specification ../vehicle/global.vcl --verifier Marabou --network classifier:../models/onnx/DoS/base.onnx --property propertyGoodHTTP"
   ]
  },
  {
   "cell_type": "code",
   "execution_count": null,
   "metadata": {},
   "outputs": [],
   "source": [
    "!vehicle verify --specification ../vehicle/global.vcl --verifier Marabou --network classifier:../models/onnx/DoS/base.onnx --property propertyInvalid"
   ]
  },
  {
   "cell_type": "code",
   "execution_count": null,
   "metadata": {},
   "outputs": [],
   "source": [
    "!vehicle verify --specification ../vehicle/global.vcl --verifier Marabou --network classifier:../models/onnx/DoS/base.onnx --property propertyHulk"
   ]
  },
  {
   "cell_type": "code",
   "execution_count": null,
   "metadata": {},
   "outputs": [],
   "source": [
    "!vehicle verify --specification ../vehicle/global.vcl --verifier Marabou --network classifier:../models/onnx/DoS/base.onnx --property propertySYNFlood"
   ]
  },
  {
   "cell_type": "code",
   "execution_count": null,
   "metadata": {},
   "outputs": [],
   "source": [
    "!vehicle verify --specification ../vehicle/global.vcl --verifier Marabou --network classifier:../models/onnx/DoS/base.onnx --property propertySlowhttptest"
   ]
  },
  {
   "cell_type": "code",
   "execution_count": null,
   "metadata": {},
   "outputs": [],
   "source": [
    "!vehicle verify --specification ../vehicle/global.vcl --verifier Marabou --network classifier:../models/onnx/DoS/base.onnx --property propertySlowIATsAttacks"
   ]
  },
  {
   "cell_type": "markdown",
   "metadata": {},
   "source": [
    "# Adv\n",
    "---"
   ]
  },
  {
   "cell_type": "code",
   "execution_count": 18,
   "metadata": {},
   "outputs": [
    {
     "name": "stdout",
     "output_type": "stream",
     "text": [
      "Verifying properties:\n",
      "  propertyGoodHTTP [===============================================] 8/8 queries\n",
      "    result: \u001b[92m🗸\u001b[m - proved no counterexample exists\n"
     ]
    }
   ],
   "source": [
    "!vehicle verify --specification ../vehicle/global.vcl --verifier Marabou --network classifier:../models/onnx/FTP/good2.onnx --property propertyGoodHTTP"
   ]
  },
  {
   "cell_type": "code",
   "execution_count": null,
   "metadata": {},
   "outputs": [
    {
     "name": "stdout",
     "output_type": "stream",
     "text": [
      "Verifying properties:\n",
      "^C\n"
     ]
    }
   ],
   "source": [
    "!vehicle verify --specification ../vehicle/global.vcl --verifier Marabou --network classifier:../models/onnx/DoS/good2.onnx --property propertyHulk"
   ]
  },
  {
   "cell_type": "code",
   "execution_count": 3,
   "metadata": {},
   "outputs": [
    {
     "name": "stdout",
     "output_type": "stream",
     "text": [
      "Verifying properties:\n",
      "^C\n"
     ]
    }
   ],
   "source": [
    "!vehicle verify --cache ../results/cache/test/ --specification ../vehicle/global.vcl --verifier Marabou --network classifier:../models/onnx/FTP/good2.onnx --property propertySlowIATsAttacks"
   ]
  },
  {
   "cell_type": "code",
   "execution_count": 37,
   "metadata": {},
   "outputs": [
    {
     "name": "stdout",
     "output_type": "stream",
     "text": [
      "\u001b[93m\n",
      "Warning:  In property 'propertyInvalid', at least one of the generated queries were found to contain a strict inequality (i.e. constraints of the form 'x < y'). Unfortunately the Marabou query format only supports non-strict inequalities (i.e. constraints of the form 'x <= y').\n",
      "\n",
      "In order to provide support, Vehicle has automatically converted the strict inequalities to non-strict inequalites. This is not sound, but errors will be at most the floating point epsilon used by the verifier, which is usually very small (e.g. 1e-9). However, this may lead to unexpected behaviour (e.g. loss of the law of excluded middle).\n",
      "\n",
      "See https://github.com/vehicle-lang/vehicle/issues/74 for further details.\n",
      "\u001b[m\n",
      "Verifying properties:\n",
      "\n",
      "    result: \u001b[91m✗\u001b[m - counterexample found\n",
      "      x: [ 8.221e-2, 1.0, 0.0, 1.0, 0.0, 0.0, 1.0, 1.0, 1.0, 1.0, 1.0, 0.0, 7.812e-3, 7.0312e-2, 6.25e-2, 9.375e-2, 6.25e-2, 6.25e-2, 6.25e-2, 9.7656e-2, 9.7656e-2, 9.7656e-2, 0.0, 0.0, 0.0, 0.0, 0.0, 0.0, 0.0, 0.0, 0.0, 0.0, 0.0, 0.0, 0.0, 0.0, 0.0, 0.0, 0.0, 0.0, 0.0, 0.0 ]\n"
     ]
    }
   ],
   "source": [
    "!vehicle verify --specification ../vehicle/global.vcl --verifier Marabou --network classifier:../models/onnx/DoS/adv.onnx --property propertyInvalid"
   ]
  },
  {
   "cell_type": "code",
   "execution_count": null,
   "metadata": {},
   "outputs": [],
   "source": [
    "!vehicle verify --specification ../vehicle/global.vcl --verifier Marabou --network classifier:../models/onnx/DoS/adv.onnx --property propertySlowhttptest"
   ]
  },
  {
   "cell_type": "code",
   "execution_count": 38,
   "metadata": {},
   "outputs": [
    {
     "name": "stdout",
     "output_type": "stream",
     "text": [
      "\u001b[93m\n",
      "Warning:  In property 'propertySYNFlood', at least one of the generated queries were found to contain a strict inequality (i.e. constraints of the form 'x < y'). Unfortunately the Marabou query format only supports non-strict inequalities (i.e. constraints of the form 'x <= y').\n",
      "\n",
      "In order to provide support, Vehicle has automatically converted the strict inequalities to non-strict inequalites. This is not sound, but errors will be at most the floating point epsilon used by the verifier, which is usually very small (e.g. 1e-9). However, this may lead to unexpected behaviour (e.g. loss of the law of excluded middle).\n",
      "\n",
      "See https://github.com/vehicle-lang/vehicle/issues/74 for further details.\n",
      "\u001b[m\n",
      "Verifying properties:\n",
      "\n",
      "    result: \u001b[91m✗\u001b[m - counterexample found\n",
      "      x: [ 8.221e-2, 1.0, 0.0, 1.0, 0.0, 0.0, 1.0, 1.0, 1.0, 1.0, 1.0, 0.0, 7.812e-3, 7.0312e-2, 6.25e-2, 9.375e-2, 6.25e-2, 6.25e-2, 6.25e-2, 9.7656e-2, 9.7656e-2, 9.7656e-2, 0.0, 0.0, 0.0, 0.0, 0.0, 0.0, 0.0, 0.0, 0.0, 0.0, 0.0, 0.0, 0.0, 0.0, 0.0, 0.0, 0.0, 0.0, 0.0, 0.0 ]\n"
     ]
    }
   ],
   "source": [
    "!vehicle verify --specification ../vehicle/global.vcl --verifier Marabou --network classifier:../models/onnx/DoS/adv.onnx --property propertySYNFlood"
   ]
  },
  {
   "cell_type": "markdown",
   "metadata": {},
   "source": [
    "# SSH\n",
    "---"
   ]
  },
  {
   "cell_type": "code",
   "execution_count": 20,
   "metadata": {},
   "outputs": [
    {
     "name": "stdout",
     "output_type": "stream",
     "text": [
      "Verifying properties:\n",
      "  propertySSHBruteForce [==========================================] 8/8 queries\n",
      "    result: \u001b[92m🗸\u001b[m - proved no counterexample exists\n"
     ]
    }
   ],
   "source": [
    "!vehicle verify --specification ../vehicle/ssh.vcl --verifier Marabou --network classifier:../models/onnx/FTP/good2.onnx --property propertySSHBruteForce"
   ]
  },
  {
   "cell_type": "code",
   "execution_count": 18,
   "metadata": {},
   "outputs": [
    {
     "name": "stdout",
     "output_type": "stream",
     "text": [
      "Verifying properties:\n",
      "  propertyGoodSSHLogin [===========================================] 8/8 queries\n",
      "    result: \u001b[92m🗸\u001b[m - proved no counterexample exists\n"
     ]
    }
   ],
   "source": [
    "!vehicle verify --specification ../vehicle/ssh.vcl --verifier Marabou --network classifier:../models/onnx/FTP/good2.onnx --property propertyGoodSSHLogin"
   ]
  },
  {
   "cell_type": "markdown",
   "metadata": {},
   "source": [
    "# FTP\n",
    "---"
   ]
  },
  {
   "cell_type": "code",
   "execution_count": 21,
   "metadata": {},
   "outputs": [
    {
     "name": "stdout",
     "output_type": "stream",
     "text": [
      "Verifying properties:\n",
      "  propertyFTPBruteForce [==========================================] 4/4 queries\n",
      "    result: \u001b[92m🗸\u001b[m - proved no counterexample exists\n"
     ]
    }
   ],
   "source": [
    "!vehicle verify --specification ../vehicle/ssh.vcl --verifier Marabou --network classifier:../models/onnx/FTP/good2.onnx --property propertyFTPBruteForce"
   ]
  },
  {
   "cell_type": "code",
   "execution_count": 23,
   "metadata": {},
   "outputs": [
    {
     "name": "stdout",
     "output_type": "stream",
     "text": [
      "Verifying properties:\n",
      "  propertyGoodFTPLogin [===========================================] 4/4 queries\n",
      "    result: \u001b[92m🗸\u001b[m - proved no counterexample exists\n"
     ]
    }
   ],
   "source": [
    "!vehicle verify --specification ../vehicle/ssh.vcl --verifier Marabou --network classifier:../models/onnx/FTP/good2.onnx --property propertyGoodFTPLogin"
   ]
  },
  {
   "cell_type": "markdown",
   "metadata": {},
   "source": [
    "# Transferability experiment\n",
    "---"
   ]
  },
  {
   "cell_type": "code",
   "execution_count": 16,
   "metadata": {},
   "outputs": [
    {
     "name": "stdout",
     "output_type": "stream",
     "text": [
      "Verifying properties:\n",
      "  propertyGoodHTTP [===============================================] 8/8 queries\n",
      "    result: \u001b[92m🗸\u001b[m - proved no counterexample exists\n"
     ]
    }
   ],
   "source": [
    "!vehicle verify --specification ../vehicle/global.vcl --verifier Marabou --network classifier:../models/onnx/DoS/big4_test.onnx --property propertyGoodHTTP"
   ]
  }
 ],
 "metadata": {
  "kernelspec": {
   "display_name": "sec",
   "language": "python",
   "name": "python3"
  },
  "language_info": {
   "codemirror_mode": {
    "name": "ipython",
    "version": 3
   },
   "file_extension": ".py",
   "mimetype": "text/x-python",
   "name": "python",
   "nbconvert_exporter": "python",
   "pygments_lexer": "ipython3",
   "version": "3.9.9"
  }
 },
 "nbformat": 4,
 "nbformat_minor": 2
}
